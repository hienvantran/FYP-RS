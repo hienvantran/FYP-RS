{
  "cells": [
    {
      "cell_type": "code",
      "execution_count": 1,
      "metadata": {
        "colab": {
          "base_uri": "https://localhost:8080/"
        },
        "id": "m4nSwRGB4OFv",
        "outputId": "f212af89-2b77-4e77-822d-8a08fd32a75f"
      },
      "outputs": [
        {
          "output_type": "stream",
          "name": "stdout",
          "text": [
            "Looking in indexes: https://pypi.org/simple, https://us-python.pkg.dev/colab-wheels/public/simple/\n",
            "Requirement already satisfied: tensorboardX in /usr/local/lib/python3.8/dist-packages (2.5.1)\n",
            "Requirement already satisfied: protobuf<=3.20.1,>=3.8.0 in /usr/local/lib/python3.8/dist-packages (from tensorboardX) (3.19.6)\n",
            "Requirement already satisfied: numpy in /usr/local/lib/python3.8/dist-packages (from tensorboardX) (1.21.6)\n"
          ]
        }
      ],
      "source": [
        "!pip install tensorboardX"
      ]
    },
    {
      "cell_type": "code",
      "execution_count": 2,
      "metadata": {
        "id": "0lnFVokUN4Dz"
      },
      "outputs": [],
      "source": [
        "import os\n",
        "os.chdir('/content/drive/MyDrive/Colab Notebooks/FYP')\n",
        "# !git clone https://github.com/gusye1234/LightGCN-PyTorch.git"
      ]
    },
    {
      "cell_type": "code",
      "execution_count": 3,
      "metadata": {
        "id": "8u9FdJ2BtK8k"
      },
      "outputs": [],
      "source": [
        "import os\n",
        "from os.path import join\n",
        "import sys\n",
        "import yaml\n",
        "import torch\n",
        "import numpy as np\n",
        "import pandas as pd\n",
        "from time import time\n",
        "from pprint import pprint\n",
        "from tqdm import tqdm"
      ]
    },
    {
      "cell_type": "markdown",
      "metadata": {
        "id": "AUTX-Og9wOea"
      },
      "source": [
        "# Data"
      ]
    },
    {
      "cell_type": "code",
      "execution_count": 4,
      "metadata": {
        "id": "HHTWqcLvkihR"
      },
      "outputs": [],
      "source": [
        "import sys\n",
        "sys.path.insert(0,'/content/drive/My Drive/Colab Notebooks/FYP/lightgcn/code')"
      ]
    },
    {
      "cell_type": "markdown",
      "metadata": {
        "id": "nv3YVuyrN2o7"
      },
      "source": [
        "Benchmark datasets: Gowalla, Yelp2018 and Amazon-book and one small dataset LastFM."
      ]
    },
    {
      "cell_type": "code",
      "execution_count": 5,
      "metadata": {
        "id": "ONPZhkTPtBwW"
      },
      "outputs": [],
      "source": [
        "device = torch.device(\"cuda\" if torch.cuda.is_available() else \"cpu\")\n",
        "dataset_name = \"gowalla\""
      ]
    },
    {
      "cell_type": "code",
      "execution_count": 6,
      "metadata": {
        "id": "bMhuu5wltu6q",
        "colab": {
          "base_uri": "https://localhost:8080/"
        },
        "outputId": "fe05dcc2-8074-40b0-c5f1-1b60d53372cc"
      },
      "outputs": [
        {
          "output_type": "stream",
          "name": "stdout",
          "text": [
            "Read successful\n",
            "Read successful\n",
            "\u001b[0;30;43mCpp extension not loaded\u001b[0m\n",
            "\u001b[0;30;43mloading [./lightgcn/data/yelp2018]\u001b[0m\n",
            "1237259 interactions for training\n",
            "324147 interactions for testing\n",
            "===========config================\n",
            "{'A_n_fold': 100,\n",
            " 'A_split': False,\n",
            " 'bigdata': False,\n",
            " 'bpr_batch_size': 2048,\n",
            " 'decay': 0.005,\n",
            " 'dropout': 0,\n",
            " 'keep_prob': 0.6,\n",
            " 'latent_dim_rec': 64,\n",
            " 'lightGCN_n_layers': 3,\n",
            " 'lr': 0.001,\n",
            " 'multicore': 1,\n",
            " 'pretrain': 0,\n",
            " 'ssl_aug_type': 'ED',\n",
            " 'ssl_ratio': 0.1,\n",
            " 'ssl_reg': 0.1,\n",
            " 'ssl_temp': 0.2,\n",
            " 'test_u_batch_size': 5}\n",
            "cores for test: 1\n",
            "comment: lgn\n",
            "tensorboard: 1\n",
            "LOAD: 0\n",
            "Weight path: ./checkpoints\n",
            "Test Topks: [1, 3, 9]\n",
            "using bpr loss\n",
            "===========end===================\n",
            "\u001b[0;30;43mCpp extension not loaded\u001b[0m\n"
          ]
        }
      ],
      "source": [
        "from lightgcn.code.dataloader import Loader"
      ]
    },
    {
      "cell_type": "code",
      "execution_count": 7,
      "metadata": {
        "id": "xFE3EzyZ6bdR"
      },
      "outputs": [],
      "source": [
        "import time"
      ]
    },
    {
      "cell_type": "code",
      "execution_count": 8,
      "metadata": {
        "id": "G50UoukzAc07"
      },
      "outputs": [],
      "source": [
        "from timeit import default_timer\n",
        "\n",
        "\n",
        "class Timer(object):\n",
        "    \"\"\"Timer class.\n",
        "    `Original code <https://github.com/miguelgfierro/pybase/blob/2298172a13fb4a243754acbc6029a4a2dcf72c20/log_base/timer.py>`_.\n",
        "    Examples:\n",
        "        >>> import time\n",
        "        >>> t = Timer()\n",
        "        >>> t.start()\n",
        "        >>> time.sleep(1)\n",
        "        >>> t.stop()\n",
        "        >>> t.interval < 1\n",
        "        True\n",
        "        >>> with Timer() as t:\n",
        "        ...   time.sleep(1)\n",
        "        >>> t.interval < 1\n",
        "        True\n",
        "        >>> \"Time elapsed {}\".format(t) #doctest: +ELLIPSIS\n",
        "        'Time elapsed 1...'\n",
        "    \"\"\"\n",
        "\n",
        "    def __init__(self):\n",
        "        self._timer = default_timer\n",
        "        self._interval = 0\n",
        "        self.running = False\n",
        "\n",
        "    def __enter__(self):\n",
        "        self.start()\n",
        "        return self\n",
        "\n",
        "    def __exit__(self, *args):\n",
        "        self.stop()\n",
        "\n",
        "    def __str__(self):\n",
        "        return \"{:0.4f}\".format(self.interval)\n",
        "\n",
        "    def start(self):\n",
        "        \"\"\"Start the timer.\"\"\"\n",
        "        self.init = self._timer()\n",
        "        self.running = True\n",
        "\n",
        "    def stop(self):\n",
        "        \"\"\"Stop the timer. Calculate the interval in seconds.\"\"\"\n",
        "        self.end = self._timer()\n",
        "        try:\n",
        "            self._interval = self.end - self.init\n",
        "            self.running = False\n",
        "        except AttributeError:\n",
        "            raise ValueError(\n",
        "                \"Timer has not been initialized: use start() or the contextual form with Timer() as t:\"\n",
        "            )\n",
        "\n",
        "    @property\n",
        "    def interval(self):\n",
        "        \"\"\"Get time interval in seconds.\n",
        "        Returns:\n",
        "            float: Seconds.\n",
        "        \"\"\"\n",
        "        if self.running:\n",
        "            raise ValueError(\"Timer has not been stopped, please use stop().\")\n",
        "        else:\n",
        "            return self._interval"
      ]
    },
    {
      "cell_type": "code",
      "execution_count": 9,
      "metadata": {
        "id": "T4SyvlCU6I1P"
      },
      "outputs": [],
      "source": [
        "def load(self, model_path=None):\n",
        "  \"\"\"Load an existing model.\n",
        "  Args:\n",
        "      model_path: Model path.\n",
        "  Raises:\n",
        "      IOError: if the restore operation failed.\n",
        "  \"\"\"\n",
        "  try:\n",
        "      self.saver.restore(self.sess, model_path)\n",
        "  except Exception:\n",
        "      raise IOError(\n",
        "          \"Failed to find any matching files for {0}\".format(model_path)\n",
        "      )"
      ]
    },
    {
      "cell_type": "code",
      "source": [
        "import world\n",
        "import utils\n",
        "from world import cprint\n",
        "import torch\n",
        "import numpy as np\n",
        "from tensorboardX import SummaryWriter\n",
        "import time\n",
        "import Procedure\n",
        "from os.path import join\n",
        "# ==============================\n",
        "utils.set_seed(world.seed)\n",
        "print(\">>SEED:\", world.seed)\n",
        "# ==============================\n",
        "import register\n",
        "from register import dataset\n",
        "\n",
        "Recmodel = register.MODELS[world.model_name](world.config, dataset)\n",
        "Recmodel = Recmodel.to(world.device)\n",
        "print(Recmodel)\n",
        "print(\"Checked\")\n",
        "bpr = utils.BPRLoss(Recmodel, world.config)\n",
        "\n",
        "weight_file = utils.getFileName()\n",
        "print(f\"load and save to {weight_file}\")\n",
        "if world.LOAD:\n",
        "    try:\n",
        "        Recmodel.load_state_dict(torch.load(weight_file,map_location=torch.device('cpu')))\n",
        "        world.cprint(f\"loaded model weights from {weight_file}\")\n",
        "    except FileNotFoundError:\n",
        "        print(f\"{weight_file} not exists, start from beginning\")\n",
        "Neg_k = 1\n",
        "\n",
        "# init tensorboard\n",
        "if world.tensorboard:\n",
        "    w : SummaryWriter = SummaryWriter(\n",
        "                                    join(world.BOARD_PATH, time.strftime(\"%m-%d-%Hh%Mm%Ss-\") + \"-\" + world.comment)\n",
        "                                    )\n",
        "else:\n",
        "    w = None\n",
        "    world.cprint(\"not enable tensorflowboard\")\n",
        "\n",
        "try:\n",
        "    best_epoch = 0\n",
        "    best_result = np.zeros([2], dtype=float)\n",
        "\n",
        "    for epoch in range(world.TRAIN_epochs):\n",
        "        train_start = time.time()\n",
        "        eval_time = 0\n",
        "        if epoch %10 == 0:\n",
        "            cprint(\"[TEST]\")\n",
        "            eval_start = time.time()\n",
        "            print(Recmodel)\n",
        "            Procedure.Test(dataset, Recmodel, epoch, w, world.config['multicore'])\n",
        "            eval_end = time.time()\n",
        "            eval_time = eval_end - eval_start\n",
        "        print(\"Finish test\")\n",
        "        output_information = Procedure.BPR_train_original(dataset, Recmodel, bpr, epoch, neg_k=Neg_k,w=w)\n",
        "        train_end = time.time()\n",
        "        train_time = train_end - train_start\n",
        "        print(f'EPOCH[{epoch+1}/{world.TRAIN_epochs}] (train){train_time:.2f} + (eval){eval_time:.2f} :{output_information}')       \n",
        "finally:\n",
        "    if world.tensorboard:\n",
        "        w.close()"
      ],
      "metadata": {
        "colab": {
          "base_uri": "https://localhost:8080/"
        },
        "id": "XsaMMjyf7j_K",
        "outputId": "6c117711-0ce0-4edd-ef56-fc8be09d21c4"
      },
      "execution_count": null,
      "outputs": [
        {
          "output_type": "stream",
          "name": "stdout",
          "text": [
            ">>SEED: 42\n",
            "\u001b[0;30;43mloading [./lightgcn/data/yelp2018]\u001b[0m\n",
            "1237259 interactions for training\n",
            "324147 interactions for testing\n",
            "===========config================\n",
            "{'A_n_fold': 100,\n",
            " 'A_split': False,\n",
            " 'bigdata': False,\n",
            " 'bpr_batch_size': 2048,\n",
            " 'decay': 0.005,\n",
            " 'dropout': 0,\n",
            " 'keep_prob': 0.6,\n",
            " 'latent_dim_rec': 64,\n",
            " 'lightGCN_n_layers': 3,\n",
            " 'lr': 0.001,\n",
            " 'multicore': 1,\n",
            " 'pretrain': 0,\n",
            " 'ssl_aug_type': 'ED',\n",
            " 'ssl_ratio': 0.1,\n",
            " 'ssl_reg': 0.1,\n",
            " 'ssl_temp': 0.2,\n",
            " 'test_u_batch_size': 5}\n",
            "cores for test: 1\n",
            "comment: lgn\n",
            "tensorboard: 1\n",
            "LOAD: 0\n",
            "Weight path: ./checkpoints\n",
            "Test Topks: [1, 3, 9]\n",
            "using bpr loss\n",
            "===========end===================\n",
            "\u001b[0;30;43muse NORMAL distribution initilizer\u001b[0m\n",
            "loading adjacency matrix\n",
            "successfully loaded...\n",
            "don't split the matrix\n",
            "lgn is already to go(dropout:0)\n",
            "LightGCN(\n",
            "  (embedding_user): Embedding(31668, 64)\n",
            "  (embedding_item): Embedding(38048, 64)\n",
            "  (f): Sigmoid()\n",
            ")\n",
            "Checked\n",
            "load and save to ./recommender/checkpoints/lgn-yelp2018-3-64.pth.tar\n",
            "\u001b[0;30;43m[TEST]\u001b[0m\n",
            "LightGCN(\n",
            "  (embedding_user): Embedding(31668, 64)\n",
            "  (embedding_item): Embedding(38048, 64)\n",
            "  (f): Sigmoid()\n",
            ")\n",
            "{'precision': array([0.00037893, 0.00030525, 0.00022806]), 'recall': array([4.27788429e-05, 8.44883510e-05, 1.94283275e-04]), 'ndcg': array([0.00037893, 0.00032125, 0.00028539])}\n",
            "Finish test\n"
          ]
        }
      ]
    },
    {
      "cell_type": "code",
      "execution_count": null,
      "metadata": {
        "id": "_x7tBT-T3Yyg"
      },
      "outputs": [],
      "source": [
        "print(f\"Took {training_time.interval:.2f} seconds for training.\")"
      ]
    },
    {
      "cell_type": "code",
      "execution_count": null,
      "metadata": {
        "id": "hBVPXJthAEXW"
      },
      "outputs": [],
      "source": []
    }
  ],
  "metadata": {
    "accelerator": "GPU",
    "colab": {
      "provenance": []
    },
    "gpuClass": "standard",
    "kernelspec": {
      "display_name": "Python 3",
      "name": "python3"
    },
    "language_info": {
      "name": "python"
    }
  },
  "nbformat": 4,
  "nbformat_minor": 0
}