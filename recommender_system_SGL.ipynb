{
  "cells": [
    {
      "cell_type": "code",
      "execution_count": 1,
      "metadata": {
        "colab": {
          "base_uri": "https://localhost:8080/"
        },
        "id": "m4nSwRGB4OFv",
        "outputId": "3da0b6f8-1056-4932-9b55-4b9586c8ff01"
      },
      "outputs": [
        {
          "output_type": "stream",
          "name": "stdout",
          "text": [
            "\u001b[31mERROR: Could not open requirements file: [Errno 2] No such file or directory: 'requirements.txt'\u001b[0m\u001b[31m\n",
            "\u001b[0m"
          ]
        }
      ],
      "source": [
        "!pip install -r requirements.txt"
      ]
    },
    {
      "cell_type": "code",
      "execution_count": 2,
      "metadata": {
        "id": "0lnFVokUN4Dz"
      },
      "outputs": [],
      "source": [
        "import os\n",
        "os.chdir('/content/drive/MyDrive/Colab Notebooks/FYP/sgl')\n",
        "# !git clone https://github.com/gusye1234/LightGCN-PyTorch.git"
      ]
    },
    {
      "cell_type": "code",
      "execution_count": 3,
      "metadata": {
        "id": "8u9FdJ2BtK8k"
      },
      "outputs": [],
      "source": [
        "import os\n",
        "from os.path import join\n",
        "import sys\n",
        "import yaml\n",
        "import torch\n",
        "import numpy as np\n",
        "import pandas as pd\n",
        "from time import time\n",
        "from pprint import pprint\n",
        "from tqdm import tqdm"
      ]
    },
    {
      "cell_type": "markdown",
      "metadata": {
        "id": "AUTX-Og9wOea"
      },
      "source": [
        "# Data"
      ]
    },
    {
      "cell_type": "code",
      "execution_count": 4,
      "metadata": {
        "id": "HHTWqcLvkihR"
      },
      "outputs": [],
      "source": [
        "import sys\n",
        "sys.path.insert(0,'/content/drive/My Drive/Colab Notebooks/FYP/sgl')"
      ]
    },
    {
      "cell_type": "markdown",
      "metadata": {
        "id": "nv3YVuyrN2o7"
      },
      "source": [
        "Benchmark datasets: Gowalla, Yelp2018 and Amazon-book and one small dataset LastFM."
      ]
    },
    {
      "cell_type": "code",
      "execution_count": 5,
      "metadata": {
        "id": "ONPZhkTPtBwW"
      },
      "outputs": [],
      "source": [
        "device = torch.device(\"cuda\" if torch.cuda.is_available() else \"cpu\")\n",
        "dataset_name = \"gowalla\""
      ]
    },
    {
      "cell_type": "code",
      "execution_count": 6,
      "metadata": {
        "id": "hBVPXJthAEXW",
        "colab": {
          "base_uri": "https://localhost:8080/"
        },
        "outputId": "2f057857-d9ec-48d7-a102-82b6b70867a1"
      },
      "outputs": [
        {
          "output_type": "stream",
          "name": "stdout",
          "text": [
            "Warning: passing language='c++' to cythonize() is deprecated. Instead, put \"# distutils: language=c++\" in your .pyx or .pxd file(s)\n",
            "Compiling ./reckit/cython/random_choice.pyx because it changed.\n",
            "Compiling ./reckit/cython/sort.pyx because it changed.\n",
            "Compiling ./reckit/cython/tools.pyx because it changed.\n",
            "Compiling ./reckit/cython/eval_matrix.pyx because it changed.\n",
            "[1/4] Cythonizing ./reckit/cython/eval_matrix.pyx\n",
            "/usr/local/lib/python3.8/dist-packages/Cython/Compiler/Main.py:369: FutureWarning: Cython directive 'language_level' not set, using 2 for now (Py2). This will change in a later release! File: /content/drive/MyDrive/Colab Notebooks/FYP/sgl/reckit/cython/eval_matrix.pyx\n",
            "  tree = Parsing.p_module(s, pxd, full_module_name)\n",
            "[2/4] Cythonizing ./reckit/cython/random_choice.pyx\n",
            "/usr/local/lib/python3.8/dist-packages/Cython/Compiler/Main.py:369: FutureWarning: Cython directive 'language_level' not set, using 2 for now (Py2). This will change in a later release! File: /content/drive/MyDrive/Colab Notebooks/FYP/sgl/reckit/cython/random_choice.pyx\n",
            "  tree = Parsing.p_module(s, pxd, full_module_name)\n",
            "[3/4] Cythonizing ./reckit/cython/sort.pyx\n",
            "/usr/local/lib/python3.8/dist-packages/Cython/Compiler/Main.py:369: FutureWarning: Cython directive 'language_level' not set, using 2 for now (Py2). This will change in a later release! File: /content/drive/MyDrive/Colab Notebooks/FYP/sgl/reckit/cython/sort.pyx\n",
            "  tree = Parsing.p_module(s, pxd, full_module_name)\n",
            "[4/4] Cythonizing ./reckit/cython/tools.pyx\n",
            "/usr/local/lib/python3.8/dist-packages/Cython/Compiler/Main.py:369: FutureWarning: Cython directive 'language_level' not set, using 2 for now (Py2). This will change in a later release! File: /content/drive/MyDrive/Colab Notebooks/FYP/sgl/reckit/cython/tools.pyx\n",
            "  tree = Parsing.p_module(s, pxd, full_module_name)\n",
            "running build_ext\n",
            "building 'reckit.cython.random_choice' extension\n",
            "creating build\n",
            "creating build/temp.linux-x86_64-3.8\n",
            "creating build/temp.linux-x86_64-3.8/reckit\n",
            "creating build/temp.linux-x86_64-3.8/reckit/cython\n",
            "x86_64-linux-gnu-gcc -pthread -Wno-unused-result -Wsign-compare -DNDEBUG -g -fwrapv -O2 -Wall -g -fstack-protector-strong -Wformat -Werror=format-security -g -fwrapv -O2 -g -fstack-protector-strong -Wformat -Werror=format-security -Wdate-time -D_FORTIFY_SOURCE=2 -fPIC -I./reckit/cython -I/usr/local/lib/python3.8/dist-packages/numpy/core/include -I./reckit/cython/include -I/usr/include/python3.8 -c ./reckit/cython/random_choice.cpp -o build/temp.linux-x86_64-3.8/./reckit/cython/random_choice.o -std=c++11\n",
            "In file included from \u001b[01m\u001b[K/usr/local/lib/python3.8/dist-packages/numpy/core/include/numpy/ndarraytypes.h:1969:0\u001b[m\u001b[K,\n",
            "                 from \u001b[01m\u001b[K/usr/local/lib/python3.8/dist-packages/numpy/core/include/numpy/ndarrayobject.h:12\u001b[m\u001b[K,\n",
            "                 from \u001b[01m\u001b[K/usr/local/lib/python3.8/dist-packages/numpy/core/include/numpy/arrayobject.h:4\u001b[m\u001b[K,\n",
            "                 from \u001b[01m\u001b[K./reckit/cython/random_choice.cpp:801\u001b[m\u001b[K:\n",
            "\u001b[01m\u001b[K/usr/local/lib/python3.8/dist-packages/numpy/core/include/numpy/npy_1_7_deprecated_api.h:17:2:\u001b[m\u001b[K \u001b[01;35m\u001b[Kwarning: \u001b[m\u001b[K#warning \"Using deprecated NumPy API, disable it with \" \"#define NPY_NO_DEPRECATED_API NPY_1_7_API_VERSION\" [\u001b[01;35m\u001b[K-Wcpp\u001b[m\u001b[K]\n",
            " #\u001b[01;35m\u001b[Kwarning\u001b[m\u001b[K \"Using deprecated NumPy API, disable it with \" \\\n",
            "  \u001b[01;35m\u001b[K^~~~~~~\u001b[m\u001b[K\n",
            "x86_64-linux-gnu-g++ -pthread -shared -Wl,-O1 -Wl,-Bsymbolic-functions -Wl,-Bsymbolic-functions -g -fwrapv -O2 -Wl,-Bsymbolic-functions -g -fwrapv -O2 -g -fstack-protector-strong -Wformat -Werror=format-security -Wdate-time -D_FORTIFY_SOURCE=2 build/temp.linux-x86_64-3.8/./reckit/cython/random_choice.o -o /content/drive/MyDrive/Colab Notebooks/FYP/sgl/reckit/cython/random_choice.cpython-38-x86_64-linux-gnu.so\n",
            "building 'reckit.cython.sort' extension\n",
            "x86_64-linux-gnu-gcc -pthread -Wno-unused-result -Wsign-compare -DNDEBUG -g -fwrapv -O2 -Wall -g -fstack-protector-strong -Wformat -Werror=format-security -g -fwrapv -O2 -g -fstack-protector-strong -Wformat -Werror=format-security -Wdate-time -D_FORTIFY_SOURCE=2 -fPIC -I./reckit/cython -I/usr/local/lib/python3.8/dist-packages/numpy/core/include -I./reckit/cython/include -I/usr/include/python3.8 -c ./reckit/cython/sort.cpp -o build/temp.linux-x86_64-3.8/./reckit/cython/sort.o -std=c++11\n",
            "In file included from \u001b[01m\u001b[K/usr/local/lib/python3.8/dist-packages/numpy/core/include/numpy/ndarraytypes.h:1969:0\u001b[m\u001b[K,\n",
            "                 from \u001b[01m\u001b[K/usr/local/lib/python3.8/dist-packages/numpy/core/include/numpy/ndarrayobject.h:12\u001b[m\u001b[K,\n",
            "                 from \u001b[01m\u001b[K/usr/local/lib/python3.8/dist-packages/numpy/core/include/numpy/arrayobject.h:4\u001b[m\u001b[K,\n",
            "                 from \u001b[01m\u001b[K./reckit/cython/sort.cpp:782\u001b[m\u001b[K:\n",
            "\u001b[01m\u001b[K/usr/local/lib/python3.8/dist-packages/numpy/core/include/numpy/npy_1_7_deprecated_api.h:17:2:\u001b[m\u001b[K \u001b[01;35m\u001b[Kwarning: \u001b[m\u001b[K#warning \"Using deprecated NumPy API, disable it with \" \"#define NPY_NO_DEPRECATED_API NPY_1_7_API_VERSION\" [\u001b[01;35m\u001b[K-Wcpp\u001b[m\u001b[K]\n",
            " #\u001b[01;35m\u001b[Kwarning\u001b[m\u001b[K \"Using deprecated NumPy API, disable it with \" \\\n",
            "  \u001b[01;35m\u001b[K^~~~~~~\u001b[m\u001b[K\n",
            "x86_64-linux-gnu-g++ -pthread -shared -Wl,-O1 -Wl,-Bsymbolic-functions -Wl,-Bsymbolic-functions -g -fwrapv -O2 -Wl,-Bsymbolic-functions -g -fwrapv -O2 -g -fstack-protector-strong -Wformat -Werror=format-security -Wdate-time -D_FORTIFY_SOURCE=2 build/temp.linux-x86_64-3.8/./reckit/cython/sort.o -o /content/drive/MyDrive/Colab Notebooks/FYP/sgl/reckit/cython/sort.cpython-38-x86_64-linux-gnu.so\n",
            "building 'reckit.cython.tools' extension\n",
            "x86_64-linux-gnu-gcc -pthread -Wno-unused-result -Wsign-compare -DNDEBUG -g -fwrapv -O2 -Wall -g -fstack-protector-strong -Wformat -Werror=format-security -g -fwrapv -O2 -g -fstack-protector-strong -Wformat -Werror=format-security -Wdate-time -D_FORTIFY_SOURCE=2 -fPIC -I/usr/local/lib/python3.8/dist-packages/numpy/core/include -I./reckit/cython/include -I/usr/include/python3.8 -c ./reckit/cython/tools.cpp -o build/temp.linux-x86_64-3.8/./reckit/cython/tools.o -std=c++11\n",
            "x86_64-linux-gnu-g++ -pthread -shared -Wl,-O1 -Wl,-Bsymbolic-functions -Wl,-Bsymbolic-functions -g -fwrapv -O2 -Wl,-Bsymbolic-functions -g -fwrapv -O2 -g -fstack-protector-strong -Wformat -Werror=format-security -Wdate-time -D_FORTIFY_SOURCE=2 build/temp.linux-x86_64-3.8/./reckit/cython/tools.o -o /content/drive/MyDrive/Colab Notebooks/FYP/sgl/reckit/cython/tools.cpython-38-x86_64-linux-gnu.so\n",
            "building 'reckit.cython.eval_matrix' extension\n",
            "x86_64-linux-gnu-gcc -pthread -Wno-unused-result -Wsign-compare -DNDEBUG -g -fwrapv -O2 -Wall -g -fstack-protector-strong -Wformat -Werror=format-security -g -fwrapv -O2 -g -fstack-protector-strong -Wformat -Werror=format-security -Wdate-time -D_FORTIFY_SOURCE=2 -fPIC -I./reckit/cython -I/usr/local/lib/python3.8/dist-packages/numpy/core/include -I./reckit/cython/include -I/usr/include/python3.8 -c ./reckit/cython/eval_matrix.cpp -o build/temp.linux-x86_64-3.8/./reckit/cython/eval_matrix.o -std=c++11\n",
            "In file included from \u001b[01m\u001b[K/usr/local/lib/python3.8/dist-packages/numpy/core/include/numpy/ndarraytypes.h:1969:0\u001b[m\u001b[K,\n",
            "                 from \u001b[01m\u001b[K/usr/local/lib/python3.8/dist-packages/numpy/core/include/numpy/ndarrayobject.h:12\u001b[m\u001b[K,\n",
            "                 from \u001b[01m\u001b[K/usr/local/lib/python3.8/dist-packages/numpy/core/include/numpy/arrayobject.h:4\u001b[m\u001b[K,\n",
            "                 from \u001b[01m\u001b[K./reckit/cython/eval_matrix.cpp:782\u001b[m\u001b[K:\n",
            "\u001b[01m\u001b[K/usr/local/lib/python3.8/dist-packages/numpy/core/include/numpy/npy_1_7_deprecated_api.h:17:2:\u001b[m\u001b[K \u001b[01;35m\u001b[Kwarning: \u001b[m\u001b[K#warning \"Using deprecated NumPy API, disable it with \" \"#define NPY_NO_DEPRECATED_API NPY_1_7_API_VERSION\" [\u001b[01;35m\u001b[K-Wcpp\u001b[m\u001b[K]\n",
            " #\u001b[01;35m\u001b[Kwarning\u001b[m\u001b[K \"Using deprecated NumPy API, disable it with \" \\\n",
            "  \u001b[01;35m\u001b[K^~~~~~~\u001b[m\u001b[K\n",
            "x86_64-linux-gnu-g++ -pthread -shared -Wl,-O1 -Wl,-Bsymbolic-functions -Wl,-Bsymbolic-functions -g -fwrapv -O2 -Wl,-Bsymbolic-functions -g -fwrapv -O2 -g -fstack-protector-strong -Wformat -Werror=format-security -Wdate-time -D_FORTIFY_SOURCE=2 build/temp.linux-x86_64-3.8/./reckit/cython/eval_matrix.o -o /content/drive/MyDrive/Colab Notebooks/FYP/sgl/reckit/cython/eval_matrix.cpython-38-x86_64-linux-gnu.so\n"
          ]
        }
      ],
      "source": [
        "!python local_compile_setup.py build_ext --inplace"
      ]
    },
    {
      "cell_type": "code",
      "source": [
        "device"
      ],
      "metadata": {
        "colab": {
          "base_uri": "https://localhost:8080/"
        },
        "id": "0WfVltYGzeBT",
        "outputId": "8d8540c1-a50a-4d75-ae04-10f3fcf2acc7"
      },
      "execution_count": 7,
      "outputs": [
        {
          "output_type": "execute_result",
          "data": {
            "text/plain": [
              "device(type='cuda')"
            ]
          },
          "metadata": {},
          "execution_count": 7
        }
      ]
    },
    {
      "cell_type": "code",
      "source": [
        "!python main.py --recommender=SGL --dataset=yelp2018 --aug_type=ED --reg=1e-4 --n_layers=3 --ssl_reg=0.1 --ssl_ratio=0.1 --ssl_temp=0.2"
      ],
      "metadata": {
        "colab": {
          "base_uri": "https://localhost:8080/"
        },
        "id": "L6CrUONVzZAT",
        "outputId": "993e883b-c238-4adf-b1fa-7d06eeab1dec"
      },
      "execution_count": 8,
      "outputs": [
        {
          "output_type": "stream",
          "name": "stdout",
          "text": [
            "set pytorch seed\n",
            "/content/drive/MyDrive/Colab Notebooks/FYP/sgl/data/dataset.py:317: UserWarning: /content/drive/MyDrive/Colab Notebooks/FYP/sgl/dataset/yelp2018/yelp2018.valid does not exist.\n",
            "  warnings.warn(\"%s does not exist.\" % valid_file)\n",
            "/content/drive/MyDrive/Colab Notebooks/FYP/sgl/data/dataset.py:331: UserWarning: /content/drive/MyDrive/Colab Notebooks/FYP/sgl/dataset/yelp2018/yelp2018.user2id does not exist.\n",
            "  warnings.warn(\"%s does not exist.\" % user2id_file)\n",
            "/content/drive/MyDrive/Colab Notebooks/FYP/sgl/data/dataset.py:339: UserWarning: /content/drive/MyDrive/Colab Notebooks/FYP/sgl/dataset/yelp2018/yelp2018.item2id does not exist.\n",
            "  warnings.warn(\"%s does not exist.\" % item2id_file)\n",
            "Item degree grouping...\n",
            "User degree grouping...\n",
            "Data loading finished\n",
            "2023-01-04 12:17:59.103: my pid: 2345\n",
            "2023-01-04 12:17:59.104: model: model.general_recommender.SGL\n",
            "2023-01-04 12:17:59.104: Dataset statistics:\n",
            "Name: yelp2018\n",
            "The number of users: 31668\n",
            "The number of items: 38048\n",
            "The number of ratings: 1561406\n",
            "Average actions of users: 49.31\n",
            "Average actions of items: 41.04\n",
            "The sparsity of the dataset: 99.870412%\n",
            "\n",
            "The number of training: 1237259\n",
            "The number of validation: 0\n",
            "The number of testing: 324147\n",
            "2023-01-04 12:17:59.104: NeuRec:[NeuRec]:\n",
            "recommender=SGL\n",
            "dataset=yelp2018\n",
            "file_column=UI\n",
            "sep=','\n",
            "gpu_id=0\n",
            "gpu_mem=0.99\n",
            "metric=[\"Precision\", \"Recall\", \"NDCG\"]\n",
            "top_k=[20]\n",
            "test_thread=8\n",
            "test_batch_size=128\n",
            "seed=2021\n",
            "start_testing_epoch=0\n",
            "\n",
            "SGL:[hyperparameters]:\n",
            "aug_type=ED\n",
            "reg=1e-4\n",
            "embed_size=64\n",
            "n_layers=3\n",
            "ssl_reg=0.1\n",
            "ssl_ratio=0.1\n",
            "ssl_temp=0.2\n",
            "ssl_mode=both_side\n",
            "lr=0.001\n",
            "learner=adam\n",
            "adj_type=pre\n",
            "epochs=190\n",
            "batch_size=2048\n",
            "num_negatives=1\n",
            "param_init=xavier_uniform\n",
            "stddev=0.01\n",
            "verbose=1\n",
            "stop_cnt=10\n",
            "pretrain_flag=0\n",
            "save_flag=0\n",
            "\n",
            "Command line:\n",
            "recommender=SGL\n",
            "dataset=yelp2018\n",
            "aug_type=ED\n",
            "reg=1e-4\n",
            "n_layers=3\n",
            "ssl_reg=0.1\n",
            "ssl_ratio=0.1\n",
            "ssl_temp=0.2\n",
            "create_adj_mat function cost: 0.165261s\n",
            "2023-01-04 12:18:08.311: metrics:\tPrecision@20\tRecall@20   \tNDCG@20     \n",
            "/content/drive/MyDrive/Colab Notebooks/FYP/sgl/model/general_recommender/SGL.py:237: RuntimeWarning: divide by zero encountered in power\n",
            "  d_inv = np.power(rowsum, -0.5).flatten()\n",
            "create_adj_mat function cost: 1.034415s\n",
            "create_adj_mat function cost: 0.816955s\n",
            "2023-01-04 12:21:45.619: [iter 1 : loss : 1.8213 = 0.6931 + 1.1282 + 0.0000, time: 217.306301]\n",
            "2023-01-04 12:21:51.096: epoch 1:\t0.00190253  \t0.00371063  \t0.00317147  \n",
            "2023-01-04 12:21:51.097: Find a better model.\n",
            "create_adj_mat function cost: 0.892654s\n",
            "create_adj_mat function cost: 0.890280s\n",
            "2023-01-04 12:25:31.569: [iter 2 : loss : 1.8194 = 0.6930 + 1.1263 + 0.0000, time: 220.443204]\n",
            "2023-01-04 12:25:36.679: epoch 2:\t0.00279148  \t0.00565799  \t0.00474488  \n",
            "2023-01-04 12:25:36.680: Find a better model.\n",
            "create_adj_mat function cost: 0.890728s\n",
            "create_adj_mat function cost: 0.834260s\n",
            "2023-01-04 12:29:18.010: [iter 3 : loss : 1.8191 = 0.6929 + 1.1262 + 0.0000, time: 221.297849]\n",
            "2023-01-04 12:29:23.095: epoch 3:\t0.00373569  \t0.00763552  \t0.00635907  \n",
            "2023-01-04 12:29:23.095: Find a better model.\n",
            "create_adj_mat function cost: 0.836622s\n",
            "create_adj_mat function cost: 0.827746s\n",
            "2023-01-04 12:33:04.527: [iter 4 : loss : 1.8188 = 0.6927 + 1.1261 + 0.0000, time: 221.397757]\n",
            "2023-01-04 12:33:09.535: epoch 4:\t0.00452043  \t0.00956487  \t0.00794257  \n",
            "2023-01-04 12:33:09.535: Find a better model.\n",
            "create_adj_mat function cost: 0.822358s\n",
            "create_adj_mat function cost: 0.995510s\n",
            "2023-01-04 12:36:51.253: [iter 5 : loss : 1.8185 = 0.6925 + 1.1261 + 0.0000, time: 221.683448]\n",
            "2023-01-04 12:36:56.269: epoch 5:\t0.00514095  \t0.01127614  \t0.00894572  \n",
            "2023-01-04 12:36:56.269: Find a better model.\n",
            "create_adj_mat function cost: 0.844832s\n",
            "create_adj_mat function cost: 1.041701s\n",
            "2023-01-04 12:40:37.926: [iter 6 : loss : 1.8180 = 0.6918 + 1.1262 + 0.0000, time: 221.620040]\n",
            "2023-01-04 12:40:44.075: epoch 6:\t0.00367726  \t0.00835429  \t0.00642069  \n",
            "create_adj_mat function cost: 0.890795s\n",
            "create_adj_mat function cost: 0.942272s\n",
            "2023-01-04 12:44:25.761: [iter 7 : loss : 1.8154 = 0.6887 + 1.1267 + 0.0000, time: 221.649350]\n",
            "2023-01-04 12:44:30.770: epoch 7:\t0.00449829  \t0.01030732  \t0.00807283  \n",
            "create_adj_mat function cost: 1.187823s\n",
            "create_adj_mat function cost: 1.219031s\n",
            "2023-01-04 12:48:13.231: [iter 8 : loss : 1.8067 = 0.6777 + 1.1289 + 0.0000, time: 222.423491]\n",
            "2023-01-04 12:48:18.408: epoch 8:\t0.00827035  \t0.01874783  \t0.01535731  \n",
            "2023-01-04 12:48:18.409: Find a better model.\n",
            "create_adj_mat function cost: 0.833009s\n",
            "create_adj_mat function cost: 0.835351s\n",
            "2023-01-04 12:51:59.709: [iter 9 : loss : 1.7658 = 0.6272 + 1.1384 + 0.0002, time: 221.266266]\n",
            "2023-01-04 12:52:04.831: epoch 9:\t0.01333328  \t0.02997404  \t0.02470102  \n",
            "2023-01-04 12:52:04.832: Find a better model.\n",
            "create_adj_mat function cost: 0.850878s\n",
            "create_adj_mat function cost: 0.885223s\n",
            "2023-01-04 12:55:46.171: [iter 10 : loss : 1.6835 = 0.5303 + 1.1527 + 0.0004, time: 221.304119]\n",
            "2023-01-04 12:55:51.314: epoch 10:\t0.02385958  \t0.05197117  \t0.04296765  \n",
            "2023-01-04 12:55:51.315: Find a better model.\n",
            "create_adj_mat function cost: 1.035965s\n",
            "create_adj_mat function cost: 0.909435s\n",
            "2023-01-04 12:59:32.850: [iter 11 : loss : 1.5688 = 0.3958 + 1.1721 + 0.0009, time: 221.500385]\n",
            "2023-01-04 12:59:38.624: epoch 11:\t0.02710521  \t0.05991143  \t0.04910808  \n",
            "2023-01-04 12:59:38.626: Find a better model.\n",
            "create_adj_mat function cost: 0.960625s\n",
            "create_adj_mat function cost: 0.809630s\n",
            "2023-01-04 13:03:19.894: [iter 12 : loss : 1.4445 = 0.2525 + 1.1904 + 0.0016, time: 221.220896]\n",
            "2023-01-04 13:03:25.023: epoch 12:\t0.02813609  \t0.06230089  \t0.05119354  \n",
            "2023-01-04 13:03:25.024: Find a better model.\n",
            "create_adj_mat function cost: 0.919828s\n",
            "create_adj_mat function cost: 1.195112s\n",
            "2023-01-04 13:07:07.372: [iter 13 : loss : 1.3642 = 0.1715 + 1.1905 + 0.0022, time: 222.314967]\n",
            "2023-01-04 13:07:12.385: epoch 13:\t0.02872650  \t0.06385832  \t0.05257664  \n",
            "2023-01-04 13:07:12.385: Find a better model.\n",
            "create_adj_mat function cost: 0.976797s\n",
            "create_adj_mat function cost: 0.829174s\n",
            "2023-01-04 13:10:53.653: [iter 14 : loss : 1.3171 = 0.1312 + 1.1831 + 0.0028, time: 221.234396]\n",
            "2023-01-04 13:10:58.763: epoch 14:\t0.02924905  \t0.06511304  \t0.05370218  \n",
            "2023-01-04 13:10:58.764: Find a better model.\n",
            "create_adj_mat function cost: 0.821569s\n",
            "create_adj_mat function cost: 0.812932s\n",
            "2023-01-04 13:14:40.103: [iter 15 : loss : 1.2860 = 0.1071 + 1.1756 + 0.0033, time: 221.303467]\n",
            "2023-01-04 13:14:45.269: epoch 15:\t0.02958530  \t0.06604975  \t0.05444731  \n",
            "2023-01-04 13:14:45.270: Find a better model.\n",
            "create_adj_mat function cost: 0.886485s\n",
            "create_adj_mat function cost: 0.865596s\n",
            "2023-01-04 13:18:26.604: [iter 16 : loss : 1.2635 = 0.0904 + 1.1694 + 0.0038, time: 221.300311]\n",
            "2023-01-04 13:18:31.656: epoch 16:\t0.02986317  \t0.06666733  \t0.05493749  \n",
            "2023-01-04 13:18:31.656: Find a better model.\n",
            "create_adj_mat function cost: 0.809334s\n",
            "create_adj_mat function cost: 0.812154s\n",
            "2023-01-04 13:22:13.244: [iter 17 : loss : 1.2472 = 0.0787 + 1.1643 + 0.0042, time: 221.554201]\n",
            "2023-01-04 13:22:18.235: epoch 17:\t0.03004001  \t0.06695067  \t0.05521821  \n",
            "2023-01-04 13:22:18.235: Find a better model.\n",
            "create_adj_mat function cost: 0.781710s\n",
            "create_adj_mat function cost: 0.801028s\n",
            "2023-01-04 13:25:59.620: [iter 18 : loss : 1.2340 = 0.0693 + 1.1601 + 0.0046, time: 221.342485]\n",
            "2023-01-04 13:26:04.606: epoch 18:\t0.03013629  \t0.06715179  \t0.05539157  \n",
            "2023-01-04 13:26:04.607: Find a better model.\n",
            "create_adj_mat function cost: 0.791378s\n",
            "create_adj_mat function cost: 0.822976s\n",
            "2023-01-04 13:29:46.033: [iter 19 : loss : 1.2237 = 0.0620 + 1.1567 + 0.0050, time: 221.392025]\n",
            "2023-01-04 13:29:51.035: epoch 19:\t0.03018052  \t0.06723014  \t0.05548944  \n",
            "2023-01-04 13:29:51.035: Find a better model.\n",
            "create_adj_mat function cost: 0.779924s\n",
            "create_adj_mat function cost: 0.805964s\n",
            "2023-01-04 13:33:32.342: [iter 20 : loss : 1.2150 = 0.0558 + 1.1539 + 0.0053, time: 221.273668]\n",
            "2023-01-04 13:33:37.354: epoch 20:\t0.03019472  \t0.06728052  \t0.05549651  \n",
            "2023-01-04 13:33:37.354: Find a better model.\n",
            "create_adj_mat function cost: 0.794958s\n",
            "create_adj_mat function cost: 0.809052s\n",
            "2023-01-04 13:37:18.787: [iter 21 : loss : 1.2079 = 0.0508 + 1.1515 + 0.0057, time: 221.398683]\n",
            "2023-01-04 13:37:23.812: epoch 21:\t0.03007945  \t0.06698080  \t0.05531250  \n",
            "create_adj_mat function cost: 0.827772s\n",
            "create_adj_mat function cost: 0.837752s\n",
            "2023-01-04 13:41:05.399: [iter 22 : loss : 1.2023 = 0.0468 + 1.1495 + 0.0060, time: 221.552943]\n",
            "2023-01-04 13:41:10.399: epoch 22:\t0.03010316  \t0.06685113  \t0.05520976  \n",
            "create_adj_mat function cost: 0.787052s\n",
            "create_adj_mat function cost: 0.813771s\n",
            "2023-01-04 13:44:51.871: [iter 23 : loss : 1.1969 = 0.0429 + 1.1477 + 0.0063, time: 221.437697]\n",
            "2023-01-04 13:44:56.855: epoch 23:\t0.03001791  \t0.06664668  \t0.05510527  \n",
            "create_adj_mat function cost: 0.776602s\n",
            "create_adj_mat function cost: 0.793652s\n",
            "2023-01-04 13:48:38.350: [iter 24 : loss : 1.1928 = 0.0401 + 1.1462 + 0.0066, time: 221.458695]\n",
            "2023-01-04 13:48:43.422: epoch 24:\t0.02997845  \t0.06653063  \t0.05502877  \n",
            "create_adj_mat function cost: 0.842979s\n",
            "create_adj_mat function cost: 0.875659s\n",
            "2023-01-04 13:52:25.210: [iter 25 : loss : 1.1894 = 0.0377 + 1.1449 + 0.0068, time: 221.752016]\n",
            "2023-01-04 13:52:30.369: epoch 25:\t0.02992162  \t0.06636424  \t0.05496120  \n",
            "create_adj_mat function cost: 0.874579s\n",
            "create_adj_mat function cost: 0.906617s\n",
            "2023-01-04 13:56:11.759: [iter 26 : loss : 1.1862 = 0.0354 + 1.1437 + 0.0071, time: 221.354017]\n",
            "2023-01-04 13:56:16.851: epoch 26:\t0.02986163  \t0.06612198  \t0.05480505  \n",
            "create_adj_mat function cost: 0.848033s\n",
            "create_adj_mat function cost: 0.839258s\n",
            "2023-01-04 13:59:57.670: [iter 27 : loss : 1.1834 = 0.0333 + 1.1427 + 0.0074, time: 220.785111]\n",
            "2023-01-04 14:00:02.775: epoch 27:\t0.02976847  \t0.06591260  \t0.05459217  \n",
            "create_adj_mat function cost: 0.828169s\n",
            "create_adj_mat function cost: 0.850157s\n",
            "2023-01-04 14:03:43.391: [iter 28 : loss : 1.1810 = 0.0316 + 1.1418 + 0.0076, time: 220.582740]\n",
            "2023-01-04 14:03:48.427: epoch 28:\t0.02974321  \t0.06585423  \t0.05448468  \n",
            "create_adj_mat function cost: 0.839478s\n",
            "create_adj_mat function cost: 0.886781s\n",
            "2023-01-04 14:07:30.255: [iter 29 : loss : 1.1789 = 0.0301 + 1.1409 + 0.0078, time: 221.793506]\n",
            "2023-01-04 14:07:35.325: epoch 29:\t0.02967219  \t0.06556763  \t0.05430115  \n",
            "create_adj_mat function cost: 0.813624s\n",
            "create_adj_mat function cost: 0.857219s\n",
            "2023-01-04 14:11:16.222: [iter 30 : loss : 1.1768 = 0.0286 + 1.1402 + 0.0080, time: 220.859152]\n",
            "2023-01-04 14:11:21.351: epoch 30:\t0.02960272  \t0.06525993  \t0.05408171  \n",
            "2023-01-04 14:11:21.351: Early stopping is trigger at epoch: 30\n",
            "2023-01-04 14:11:21.351: best_result@epoch 20:\n",
            "\n",
            "2023-01-04 14:11:21.352: \t\t0.0302      \t0.0673      \t0.0555      \n"
          ]
        }
      ]
    },
    {
      "cell_type": "code",
      "source": [],
      "metadata": {
        "id": "XugD05qmzikI"
      },
      "execution_count": 8,
      "outputs": []
    }
  ],
  "metadata": {
    "accelerator": "GPU",
    "colab": {
      "provenance": []
    },
    "gpuClass": "standard",
    "kernelspec": {
      "display_name": "Python 3",
      "name": "python3"
    },
    "language_info": {
      "name": "python"
    }
  },
  "nbformat": 4,
  "nbformat_minor": 0
}