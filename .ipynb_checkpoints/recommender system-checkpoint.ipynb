{
 "cells": [
  {
   "cell_type": "code",
   "execution_count": null,
   "metadata": {
    "colab": {
     "base_uri": "https://localhost:8080/"
    },
    "executionInfo": {
     "elapsed": 4879,
     "status": "ok",
     "timestamp": 1670516876414,
     "user": {
      "displayName": "Vân Trần",
      "userId": "12074433147164954707"
     },
     "user_tz": -420
    },
    "id": "m4nSwRGB4OFv",
    "outputId": "7a00b1fd-1400-41b4-e546-4dedd6b4eca0"
   },
   "outputs": [],
   "source": [
    "!pip install tensorboardX"
   ]
  },
  {
   "cell_type": "code",
   "execution_count": null,
   "metadata": {
    "executionInfo": {
     "elapsed": 15,
     "status": "ok",
     "timestamp": 1670516876416,
     "user": {
      "displayName": "Vân Trần",
      "userId": "12074433147164954707"
     },
     "user_tz": -420
    },
    "id": "8u9FdJ2BtK8k"
   },
   "outputs": [],
   "source": [
    "import os\n",
    "from os.path import join\n",
    "import sys\n",
    "import yaml\n",
    "import torch\n",
    "import numpy as np\n",
    "import pandas as pd\n",
    "from time import time\n",
    "from pprint import pprint\n",
    "from tqdm import tqdm"
   ]
  },
  {
   "cell_type": "markdown",
   "metadata": {
    "id": "AUTX-Og9wOea"
   },
   "source": [
    "# Data"
   ]
  },
  {
   "cell_type": "code",
   "execution_count": 14,
   "metadata": {
    "executionInfo": {
     "elapsed": 14,
     "status": "ok",
     "timestamp": 1670516876416,
     "user": {
      "displayName": "Vân Trần",
      "userId": "12074433147164954707"
     },
     "user_tz": -420
    },
    "id": "HHTWqcLvkihR"
   },
   "outputs": [],
   "source": [
    "import sys\n",
    "sys.path.insert(0,'/content/drive/My Drive/Colab Notebooks/FYP/lightgcn/code')"
   ]
  },
  {
   "cell_type": "markdown",
   "metadata": {
    "id": "nv3YVuyrN2o7"
   },
   "source": [
    "Benchmark datasets: Gowalla, Yelp2018 and Amazon-book and one small dataset LastFM."
   ]
  },
  {
   "cell_type": "code",
   "execution_count": 15,
   "metadata": {
    "executionInfo": {
     "elapsed": 15,
     "status": "ok",
     "timestamp": 1670516876417,
     "user": {
      "displayName": "Vân Trần",
      "userId": "12074433147164954707"
     },
     "user_tz": -420
    },
    "id": "ONPZhkTPtBwW"
   },
   "outputs": [],
   "source": [
    "device = torch.device(\"cuda\" if torch.cuda.is_available() else \"cpu\")\n",
    "dataset_name = \"gowalla\""
   ]
  },
  {
   "cell_type": "code",
   "execution_count": 16,
   "metadata": {
    "executionInfo": {
     "elapsed": 14,
     "status": "ok",
     "timestamp": 1670516876417,
     "user": {
      "displayName": "Vân Trần",
      "userId": "12074433147164954707"
     },
     "user_tz": -420
    },
    "id": "bMhuu5wltu6q"
   },
   "outputs": [],
   "source": [
    "from lightgcn.code.dataloader import Loader"
   ]
  },
  {
   "cell_type": "code",
   "execution_count": 17,
   "metadata": {
    "executionInfo": {
     "elapsed": 15,
     "status": "ok",
     "timestamp": 1670516876418,
     "user": {
      "displayName": "Vân Trần",
      "userId": "12074433147164954707"
     },
     "user_tz": -420
    },
    "id": "xFE3EzyZ6bdR"
   },
   "outputs": [],
   "source": [
    "import time"
   ]
  },
  {
   "cell_type": "code",
   "execution_count": 18,
   "metadata": {
    "executionInfo": {
     "elapsed": 15,
     "status": "ok",
     "timestamp": 1670516876418,
     "user": {
      "displayName": "Vân Trần",
      "userId": "12074433147164954707"
     },
     "user_tz": -420
    },
    "id": "G50UoukzAc07"
   },
   "outputs": [],
   "source": [
    "from timeit import default_timer\n",
    "\n",
    "\n",
    "class Timer(object):\n",
    "    \"\"\"Timer class.\n",
    "    `Original code <https://github.com/miguelgfierro/pybase/blob/2298172a13fb4a243754acbc6029a4a2dcf72c20/log_base/timer.py>`_.\n",
    "    Examples:\n",
    "        >>> import time\n",
    "        >>> t = Timer()\n",
    "        >>> t.start()\n",
    "        >>> time.sleep(1)\n",
    "        >>> t.stop()\n",
    "        >>> t.interval < 1\n",
    "        True\n",
    "        >>> with Timer() as t:\n",
    "        ...   time.sleep(1)\n",
    "        >>> t.interval < 1\n",
    "        True\n",
    "        >>> \"Time elapsed {}\".format(t) #doctest: +ELLIPSIS\n",
    "        'Time elapsed 1...'\n",
    "    \"\"\"\n",
    "\n",
    "    def __init__(self):\n",
    "        self._timer = default_timer\n",
    "        self._interval = 0\n",
    "        self.running = False\n",
    "\n",
    "    def __enter__(self):\n",
    "        self.start()\n",
    "        return self\n",
    "\n",
    "    def __exit__(self, *args):\n",
    "        self.stop()\n",
    "\n",
    "    def __str__(self):\n",
    "        return \"{:0.4f}\".format(self.interval)\n",
    "\n",
    "    def start(self):\n",
    "        \"\"\"Start the timer.\"\"\"\n",
    "        self.init = self._timer()\n",
    "        self.running = True\n",
    "\n",
    "    def stop(self):\n",
    "        \"\"\"Stop the timer. Calculate the interval in seconds.\"\"\"\n",
    "        self.end = self._timer()\n",
    "        try:\n",
    "            self._interval = self.end - self.init\n",
    "            self.running = False\n",
    "        except AttributeError:\n",
    "            raise ValueError(\n",
    "                \"Timer has not been initialized: use start() or the contextual form with Timer() as t:\"\n",
    "            )\n",
    "\n",
    "    @property\n",
    "    def interval(self):\n",
    "        \"\"\"Get time interval in seconds.\n",
    "        Returns:\n",
    "            float: Seconds.\n",
    "        \"\"\"\n",
    "        if self.running:\n",
    "            raise ValueError(\"Timer has not been stopped, please use stop().\")\n",
    "        else:\n",
    "            return self._interval"
   ]
  },
  {
   "cell_type": "code",
   "execution_count": 19,
   "metadata": {
    "executionInfo": {
     "elapsed": 15,
     "status": "ok",
     "timestamp": 1670516876419,
     "user": {
      "displayName": "Vân Trần",
      "userId": "12074433147164954707"
     },
     "user_tz": -420
    },
    "id": "T4SyvlCU6I1P"
   },
   "outputs": [],
   "source": [
    "def load(self, model_path=None):\n",
    "  \"\"\"Load an existing model.\n",
    "  Args:\n",
    "      model_path: Model path.\n",
    "  Raises:\n",
    "      IOError: if the restore operation failed.\n",
    "  \"\"\"\n",
    "  try:\n",
    "      self.saver.restore(self.sess, model_path)\n",
    "  except Exception:\n",
    "      raise IOError(\n",
    "          \"Failed to find any matching files for {0}\".format(model_path)\n",
    "      )"
   ]
  },
  {
   "cell_type": "code",
   "execution_count": null,
   "metadata": {
    "colab": {
     "background_save": true,
     "base_uri": "https://localhost:8080/"
    },
    "id": "00X4phmx3YO8"
   },
   "outputs": [
    {
     "name": "stdout",
     "output_type": "stream",
     "text": [
      ">>SEED: 42\n",
      "\u001b[0;30;43muse NORMAL distribution initilizer\u001b[0m\n",
      "loading adjacency matrix\n",
      "lgn is already to go(dropout:0)\n",
      "load and save to /content/drive/MyDrive/Colab Notebooks/FYP/recommender/checkpoints/lgn-yelp2018-3-64.pth.tar\n",
      "\u001b[0;30;43m[TEST]\u001b[0m\n"
     ]
    }
   ],
   "source": [
    "import world\n",
    "import utils\n",
    "from world import cprint\n",
    "import torch\n",
    "import numpy as np\n",
    "from tensorboardX import SummaryWriter\n",
    "import time\n",
    "import Procedure\n",
    "from os.path import join\n",
    "# ==============================\n",
    "utils.set_seed(world.seed)\n",
    "print(\">>SEED:\", world.seed)\n",
    "# ==============================\n",
    "import register\n",
    "from register import dataset\n",
    "\n",
    "Recmodel = register.MODELS[world.model_name](world.config, dataset)\n",
    "Recmodel = Recmodel.to(world.device)\n",
    "bpr = utils.BPRLoss(Recmodel, world.config)\n",
    "\n",
    "weight_file = utils.getFileName()\n",
    "print(f\"load and save to {weight_file}\")\n",
    "if world.LOAD:\n",
    "    try:\n",
    "        Recmodel.load_state_dict(torch.load(weight_file,map_location=torch.device('cpu')))\n",
    "        world.cprint(f\"loaded model weights from {weight_file}\")\n",
    "    except FileNotFoundError:\n",
    "        print(f\"{weight_file} not exists, start from beginning\")\n",
    "Neg_k = 1\n",
    "\n",
    "# init tensorboard\n",
    "if world.tensorboard:\n",
    "    w : SummaryWriter = SummaryWriter(\n",
    "                                    join(world.BOARD_PATH, time.strftime(\"%m-%d-%Hh%Mm%Ss-\") + \"-\" + world.comment)\n",
    "                                    )\n",
    "else:\n",
    "    w = None\n",
    "    world.cprint(\"not enable tensorflowboard\")\n",
    "with Timer() as training_time:\n",
    "  try:\n",
    "      for epoch in range(world.TRAIN_epochs):\n",
    "          train_start = time.time()\n",
    "          eval_time = 0\n",
    "          if epoch %10 == 0:\n",
    "              cprint(\"[TEST]\")\n",
    "              eval_start = time.time()\n",
    "              Procedure.Test(dataset, Recmodel, epoch, w, world.config['multicore'])\n",
    "              eval_end = time.time()\n",
    "              eval_time = eval_end - eval_start\n",
    "\n",
    "          output_information = Procedure.BPR_train_original(dataset, Recmodel, bpr, epoch, neg_k=Neg_k,w=w)\n",
    "          train_end = time.time()\n",
    "          train_time = train_end - train_start\n",
    "\n",
    "          print(f'EPOCH[{epoch+1}/{world.TRAIN_epochs}] (train){train_time:.2f} + (eval){eval_time:.2f} :{output_information}')\n",
    "          torch.save(Recmodel.state_dict(), weight_file)\n",
    "  finally:\n",
    "      if world.tensorboard:\n",
    "          w.close()"
   ]
  },
  {
   "cell_type": "code",
   "execution_count": null,
   "metadata": {
    "id": "_x7tBT-T3Yyg"
   },
   "outputs": [],
   "source": [
    "print(f\"Took {training_time.interval:.2f} seconds for training.\")"
   ]
  },
  {
   "cell_type": "code",
   "execution_count": null,
   "metadata": {
    "id": "hBVPXJthAEXW"
   },
   "outputs": [],
   "source": []
  }
 ],
 "metadata": {
  "accelerator": "GPU",
  "colab": {
   "authorship_tag": "ABX9TyNxZDYZ320cNeknau2CBebs",
   "mount_file_id": "1rQdeQp6ehf_VdkIoICjKJy6wkMCDlbt5",
   "name": "",
   "version": ""
  },
  "gpuClass": "standard",
  "kernelspec": {
   "display_name": "Python 3 (ipykernel)",
   "language": "python",
   "name": "python3"
  },
  "language_info": {
   "codemirror_mode": {
    "name": "ipython",
    "version": 3
   },
   "file_extension": ".py",
   "mimetype": "text/x-python",
   "name": "python",
   "nbconvert_exporter": "python",
   "pygments_lexer": "ipython3",
   "version": "3.9.12"
  }
 },
 "nbformat": 4,
 "nbformat_minor": 1
}
